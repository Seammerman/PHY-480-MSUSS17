{
 "cells": [
  {
   "cell_type": "code",
   "execution_count": 31,
   "metadata": {
    "collapsed": true
   },
   "outputs": [],
   "source": [
    "import numpy as np\n",
    "import matplotlib.pyplot as plt\n",
    "import matplotlib.mlab as mlab\n",
    "import scipy.optimize as spy\n",
    "%matplotlib inline"
   ]
  },
  {
   "cell_type": "code",
   "execution_count": 32,
   "metadata": {
    "collapsed": true
   },
   "outputs": [],
   "source": [
    "num_agents = 1000; # number of members partaking in transactions\n",
    "m0 = 1000; # average money per agent, will also be the starting money\n",
    "beta = 1/m0 # equation variable\n",
    "money_tot = m0 * num_agents # total money, will be conserved"
   ]
  },
  {
   "cell_type": "code",
   "execution_count": 33,
   "metadata": {
    "collapsed": true
   },
   "outputs": [],
   "source": [
    "# transaction quantification value epsilon\n",
    "def epsilon():\n",
    "    return np.round(np.random.uniform(0,1),2)\n",
    "\n",
    "# used to asign transactions between two random agents\n",
    "def rand_agent():\n",
    "    return np.int(np.round(np.random.uniform(0,num_agents - 1),0))\n",
    "\n",
    "# vector container for all agents with starting money, m0\n",
    "def agent():\n",
    "    agents = np.zeros(num_agents);\n",
    "    agents += m0;\n",
    "    return agents"
   ]
  },
  {
   "cell_type": "code",
   "execution_count": 34,
   "metadata": {
    "collapsed": true
   },
   "outputs": [],
   "source": [
    "def transactions(agents,num,gamma, alpha):\n",
    "    i = 0\n",
    "    while i < num:\n",
    "        #exchange quantifier and agent identification\n",
    "        ep = epsilon()\n",
    "        one = rand_agent()\n",
    "        two = rand_agent()\n",
    "        if one == two:\n",
    "            two = rand_agent()\n",
    "        \n",
    "        #assign wealth values and the delM value\n",
    "        Mone = agents[one]\n",
    "        Mtwo = agents[two]\n",
    "        Msum = Mone + Mtwo\n",
    "        dM = np.round((1 - gamma) * (ep * Mtwo - (1 - ep) * Mone),2)\n",
    "        \n",
    "        #determine if a transaction will occur\n",
    "        nearestfriend = np.abs(Mone - Mtwo)**(-alpha)\n",
    "        chance = np.random.uniform(0,1)\n",
    "        if nearestfriend > 1:\n",
    "            Moneprime = Mone + dM\n",
    "            Mtwoprime= Mtwo - dM\n",
    "                        #update agent wealth\n",
    "            agents[one] = Moneprime\n",
    "            agents[two] = Mtwoprime\n",
    "        elif chance <= nearestfriend:\n",
    "            Moneprime = Mone + dM\n",
    "            Mtwoprime= Mtwo - dM\n",
    "        \n",
    "            #update agent wealth\n",
    "            agents[one] = Moneprime\n",
    "            agents[two] = Mtwoprime\n",
    "        else:\n",
    "            pass\n",
    "        \n",
    "        i += 1"
   ]
  },
  {
   "cell_type": "code",
   "execution_count": 35,
   "metadata": {
    "collapsed": true
   },
   "outputs": [],
   "source": [
    "def history(vector,num,alpha):\n",
    "    wealth = vector\n",
    "    plt.figure('histogram')\n",
    "    n, bins, patches = plt.hist(vector, 50, alpha=0, normed=1)\n",
    "    n = np.append(n,0)\n",
    "    #plt.title('Wealth Distribution after: ' + str(num) + ' transactions')\n",
    "    plt.xlabel('Wealth [Dollars]')\n",
    "    plt.ylabel('Occurance')\n",
    "    y = mlab.normpdf(bins,np.average(vector),np.std(vector))\n",
    "    #plt.plot(bins,y,'r--', label='alpha = '+str(alpha))\n",
    "    #plt.legend()\n",
    "    #plt.show()\n",
    "    return n, bins, y"
   ]
  },
  {
   "cell_type": "code",
   "execution_count": 36,
   "metadata": {
    "collapsed": true
   },
   "outputs": [],
   "source": [
    "def repitition(num,gamma,alpha):\n",
    "    rep = 0\n",
    "    loss = 0\n",
    "    check = 0\n",
    "    vector = agent()\n",
    "    # to check for equilibrium we calculate the new mean after successive simulations and wait for delW_avg = 0.05 %\n",
    "    while check < 1:\n",
    "        # to ensure the conservation of wealth we introduce an if statement for money loss\n",
    "        if np.abs(loss) < 1:\n",
    "            std_old = np.std(vector)\n",
    "            transactions(vector,num,gamma,alpha)\n",
    "            money_after = sum(vector)\n",
    "            loss = money_tot - money_after\n",
    "            rep += 1\n",
    "            agents = vector\n",
    "            std_new = np.std(vector)\n",
    "            if np.abs((std_new - std_old)/std_old) < 0.005:\n",
    "                check = 1\n",
    "                print('Equilibrium: established')\n",
    "                print('std of wealth: ', std_new)\n",
    "                print('rep count: ', rep)\n",
    "            else:\n",
    "                pass\n",
    "        else:\n",
    "            check = 1\n",
    "            print('money is not being conserved')\n",
    "            print('net difference: ', loss)\n",
    "            print('failed with rep count: ', rep)\n",
    "\n",
    "    return agents"
   ]
  },
  {
   "cell_type": "markdown",
   "metadata": {},
   "source": [
    "## N = 500"
   ]
  },
  {
   "cell_type": "code",
   "execution_count": 37,
   "metadata": {
    "collapsed": true
   },
   "outputs": [],
   "source": [
    "num_agents = 500; # number of members partaking in transactions\n",
    "m0 = 1000; # average money per agent, will also be the starting money\n",
    "beta = 1/m0 # equation variable\n",
    "money_tot = m0 * num_agents # total money, will be conserved"
   ]
  },
  {
   "cell_type": "code",
   "execution_count": 38,
   "metadata": {
    "collapsed": false
   },
   "outputs": [
    {
     "name": "stderr",
     "output_type": "stream",
     "text": [
      "C:\\Users\\samme\\Anaconda3\\lib\\site-packages\\ipykernel\\__main__.py:18: RuntimeWarning: divide by zero encountered in double_scalars\n",
      "C:\\Users\\samme\\Anaconda3\\lib\\site-packages\\ipykernel\\__main__.py:17: RuntimeWarning: divide by zero encountered in double_scalars\n"
     ]
    },
    {
     "name": "stdout",
     "output_type": "stream",
     "text": [
      "money is not being conserved\n",
      "net difference:  -3.06000000058\n",
      "failed with rep count:  7\n"
     ]
    },
    {
     "ename": "ValueError",
     "evalue": "too many values to unpack (expected 2)",
     "output_type": "error",
     "traceback": [
      "\u001b[0;31m---------------------------------------------------------------------------\u001b[0m",
      "\u001b[0;31mValueError\u001b[0m                                Traceback (most recent call last)",
      "\u001b[0;32m<ipython-input-38-e1f4553279c3>\u001b[0m in \u001b[0;36m<module>\u001b[0;34m()\u001b[0m\n\u001b[1;32m      3\u001b[0m \u001b[0malpha\u001b[0m \u001b[1;33m=\u001b[0m \u001b[1;36m0.99\u001b[0m\u001b[1;33m\u001b[0m\u001b[0m\n\u001b[1;32m      4\u001b[0m \u001b[0magents\u001b[0m \u001b[1;33m=\u001b[0m \u001b[0mrepitition\u001b[0m\u001b[1;33m(\u001b[0m\u001b[0mnum\u001b[0m\u001b[1;33m,\u001b[0m\u001b[0mgamma\u001b[0m\u001b[1;33m,\u001b[0m\u001b[0malpha\u001b[0m\u001b[1;33m)\u001b[0m\u001b[1;33m\u001b[0m\u001b[0m\n\u001b[0;32m----> 5\u001b[0;31m \u001b[0mn\u001b[0m\u001b[1;33m,\u001b[0m \u001b[0mbins\u001b[0m \u001b[1;33m=\u001b[0m \u001b[0mhistory\u001b[0m\u001b[1;33m(\u001b[0m\u001b[0magents\u001b[0m\u001b[1;33m,\u001b[0m\u001b[0mnum\u001b[0m\u001b[1;33m,\u001b[0m\u001b[0malpha\u001b[0m\u001b[1;33m)\u001b[0m\u001b[1;33m\u001b[0m\u001b[0m\n\u001b[0m",
      "\u001b[0;31mValueError\u001b[0m: too many values to unpack (expected 2)"
     ]
    },
    {
     "data": {
      "image/png": "[encoded data removed]",
      "text/plain": [
       "<matplotlib.figure.Figure at 0x285298a6400>"
      ]
     },
     "metadata": {},
     "output_type": "display_data"
    }
   ],
   "source": [
    "num = 10**4\n",
    "gamma = 0.99\n",
    "alpha = 0.99\n",
    "agents = repitition(num,gamma,alpha)\n",
    "n, bins = history(agents,num,alpha)"
   ]
  },
  {
   "cell_type": "code",
   "execution_count": 40,
   "metadata": {
    "collapsed": false,
    "scrolled": false
   },
   "outputs": [
    {
     "name": "stderr",
     "output_type": "stream",
     "text": [
      "C:\\Users\\samme\\Anaconda3\\lib\\site-packages\\ipykernel\\__main__.py:18: RuntimeWarning: divide by zero encountered in double_scalars\n",
      "C:\\Users\\samme\\Anaconda3\\lib\\site-packages\\ipykernel\\__main__.py:17: RuntimeWarning: divide by zero encountered in double_scalars\n"
     ]
    },
    {
     "name": "stdout",
     "output_type": "stream",
     "text": [
      "Equilibrium: established\n",
      "std of wealth:  702.194108079\n",
      "rep count:  6\n",
      "money is not being conserved\n",
      "net difference:  -74.1399999997\n",
      "failed with rep count:  5\n",
      "money is not being conserved\n",
      "net difference:  -205.42\n",
      "failed with rep count:  18\n",
      "Equilibrium: established\n",
      "std of wealth:  551.002023673\n",
      "rep count:  25\n"
     ]
    },
    {
     "data": {
      "text/plain": [
       "<matplotlib.figure.Figure at 0x285298a86d8>"
      ]
     },
     "metadata": {},
     "output_type": "display_data"
    },
    {
     "data": {
      "image/png": "[encoded data removed]",
      "text/plain": [
       "<matplotlib.figure.Figure at 0x28529806630>"
      ]
     },
     "metadata": {},
     "output_type": "display_data"
    }
   ],
   "source": [
    "num = 10**4\n",
    "gamma = .5\n",
    "alpha = [0.5,1,1.5,2]\n",
    "color = ['red','blue','green','purple']\n",
    "fig = plt.figure('multi-gamma')\n",
    "for i in np.arange(len(alpha)):\n",
    "    value = alpha[i]\n",
    "    agents = repitition(num,gamma,value)\n",
    "    data = history(agents,num,value)\n",
    "    plt.loglog(data[1],data[2],'r--',lw=2,label='alpha = '+str(value),color=color[i])\n",
    "    plt.hold(True)\n",
    "plt.xlabel('Wealth [$]')\n",
    "plt.ylabel('Occurance')\n",
    "plt.legend(loc=3,fontsize=18)\n",
    "plt.show()"
   ]
  },
  {
   "cell_type": "code",
   "execution_count": null,
   "metadata": {
    "collapsed": true
   },
   "outputs": [],
   "source": []
  }
 ],
 "metadata": {
  "kernelspec": {
   "display_name": "Python [default]",
   "language": "python",
   "name": "python3"
  },
  "language_info": {
   "codemirror_mode": {
    "name": "ipython",
    "version": 3
   },
   "file_extension": ".py",
   "mimetype": "text/x-python",
   "name": "python",
   "nbconvert_exporter": "python",
   "pygments_lexer": "ipython3",
   "version": "3.5.2"
  }
 },
 "nbformat": 4,
 "nbformat_minor": 1
}
