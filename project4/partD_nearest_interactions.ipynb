{
 "cells": [
  {
   "cell_type": "code",
   "execution_count": 1,
   "metadata": {
    "collapsed": true
   },
   "outputs": [],
   "source": [
    "import numpy as np\n",
    "import matplotlib.pyplot as plt\n",
    "import matplotlib.mlab as mlab\n",
    "import scipy.optimize as spy\n",
    "%matplotlib inline"
   ]
  },
  {
   "cell_type": "code",
   "execution_count": 18,
   "metadata": {
    "collapsed": true
   },
   "outputs": [],
   "source": [
    "num_agents = 1000; # number of members partaking in transactions\n",
    "m0 = 1000; # average money per agent, will also be the starting money\n",
    "beta = 1/m0 # equation variable\n",
    "money_tot = m0 * num_agents # total money, will be conserved"
   ]
  },
  {
   "cell_type": "code",
   "execution_count": 3,
   "metadata": {
    "collapsed": true
   },
   "outputs": [],
   "source": [
    "# transaction quantification value epsilon\n",
    "def epsilon():\n",
    "    return np.round(np.random.uniform(0,1),2)\n",
    "\n",
    "# used to asign transactions between two random agents\n",
    "def rand_agent():\n",
    "    return np.int(np.round(np.random.uniform(0,num_agents - 1),0))\n",
    "\n",
    "# vector container for all agents with starting money, m0\n",
    "def agent():\n",
    "    agents = np.zeros(num_agents);\n",
    "    agents += m0;\n",
    "    return agents"
   ]
  },
  {
   "cell_type": "code",
   "execution_count": 22,
   "metadata": {
    "collapsed": true
   },
   "outputs": [],
   "source": [
    "def transactions(agents,num,gamma, alpha):\n",
    "    i = 0\n",
    "    while i < num:\n",
    "        #exchange quantifier and agent identification\n",
    "        ep = epsilon()\n",
    "        one = rand_agent()\n",
    "        two = rand_agent()\n",
    "        if one == two:\n",
    "            two = rand_agent()\n",
    "        \n",
    "        #assign wealth values and the delM value\n",
    "        Mone = agents[one]\n",
    "        Mtwo = agents[two]\n",
    "        Msum = Mone + Mtwo\n",
    "        dM = np.round((1 - gamma) * (ep * Mtwo - (1 - ep) * Mone),2)\n",
    "        \n",
    "        #determine if a transaction will occur\n",
    "        nearestfriend = np.abs(Mone - Mtwo)**(-alpha)\n",
    "        chance = np.random.uniform(0,1)\n",
    "        if nearestfriend > 1:\n",
    "            Moneprime = Mone + dM\n",
    "            Mtwoprime= Mtwo - dM\n",
    "                        #update agent wealth\n",
    "            agents[one] = Moneprime\n",
    "            agents[two] = Mtwoprime\n",
    "        elif chance <= nearestfriend:\n",
    "            Moneprime = Mone + dM\n",
    "            Mtwoprime= Mtwo - dM\n",
    "        \n",
    "            #update agent wealth\n",
    "            agents[one] = Moneprime\n",
    "            agents[two] = Mtwoprime\n",
    "        else:\n",
    "            pass\n",
    "        \n",
    "        i += 1"
   ]
  },
  {
   "cell_type": "code",
   "execution_count": 23,
   "metadata": {
    "collapsed": true
   },
   "outputs": [],
   "source": [
    "def history(vector, num):\n",
    "    wealth = vector\n",
    "    plt.figure('histogram')\n",
    "    n, bins, patches = plt.hist(vector, 50, alpha=0.5, normed=1)\n",
    "    n = np.append(n,0)\n",
    "    plt.title('Wealth Distribution after: ' + str(num) + ' transactions')\n",
    "    plt.xlabel('Wealth [Dollars]')\n",
    "    plt.ylabel('Occurance')\n",
    "    y = mlab.normpdf(bins,np.average(vector),np.std(vector))\n",
    "    plt.plot(bins,y,'r--')\n",
    "    plt.show()\n",
    "    return n, bins"
   ]
  },
  {
   "cell_type": "code",
   "execution_count": 24,
   "metadata": {
    "collapsed": true
   },
   "outputs": [],
   "source": [
    "def repitition(num,gamma,alpha):\n",
    "    rep = 0\n",
    "    loss = 0\n",
    "    check = 0\n",
    "    vector = agent()\n",
    "    # to check for equilibrium we calculate the new mean after successive simulations and wait for delW_avg = 0.05 %\n",
    "    while check < 1:\n",
    "        # to ensure the conservation of wealth we introduce an if statement for money loss\n",
    "        if np.abs(loss) < 1:\n",
    "            std_old = np.std(vector)\n",
    "            transactions(vector,num,gamma,alpha)\n",
    "            money_after = sum(vector)\n",
    "            loss = money_tot - money_after\n",
    "            rep += 1\n",
    "            agents = vector\n",
    "            std_new = np.std(vector)\n",
    "            if np.abs((std_new - std_old)/std_old) < 0.005:\n",
    "                check = 1\n",
    "                print('Equilibrium: established')\n",
    "                print('std of wealth: ', std_new)\n",
    "                print('rep count: ', rep)\n",
    "            else:\n",
    "                pass\n",
    "        else:\n",
    "            check = 1\n",
    "            print('money is not being conserved')\n",
    "            print('net difference: ', loss)\n",
    "            print('failed with rep count: ', rep)\n",
    "\n",
    "    return agents"
   ]
  },
  {
   "cell_type": "code",
   "execution_count": 26,
   "metadata": {
    "collapsed": false
   },
   "outputs": [
    {
     "name": "stderr",
     "output_type": "stream",
     "text": [
      "C:\\Users\\samme\\Anaconda3\\lib\\site-packages\\ipykernel\\__main__.py:18: RuntimeWarning: divide by zero encountered in double_scalars\n",
      "C:\\Users\\samme\\Anaconda3\\lib\\site-packages\\ipykernel\\__main__.py:17: RuntimeWarning: divide by zero encountered in double_scalars\n"
     ]
    },
    {
     "name": "stdout",
     "output_type": "stream",
     "text": [
      "Equilibrium: established\n",
      "std of wealth:  47.8241006983\n",
      "rep count:  43\n"
     ]
    },
    {
     "data": {
      "image/png": "[encoded data removed]",
      "text/plain": [
       "<matplotlib.figure.Figure at 0x1f9fd6f7240>"
      ]
     },
     "metadata": {},
     "output_type": "display_data"
    }
   ],
   "source": [
    "num = 10**4\n",
    "gamma = 0.99\n",
    "alpha = 0.99\n",
    "agents = repitition(num,gamma,alpha)\n",
    "n, bins = history(agents,num)"
   ]
  },
  {
   "cell_type": "code",
   "execution_count": null,
   "metadata": {
    "collapsed": true
   },
   "outputs": [],
   "source": []
  },
  {
   "cell_type": "code",
   "execution_count": null,
   "metadata": {
    "collapsed": true
   },
   "outputs": [],
   "source": []
  }
 ],
 "metadata": {
  "kernelspec": {
   "display_name": "Python [default]",
   "language": "python",
   "name": "python3"
  },
  "language_info": {
   "codemirror_mode": {
    "name": "ipython",
    "version": 3
   },
   "file_extension": ".py",
   "mimetype": "text/x-python",
   "name": "python",
   "nbconvert_exporter": "python",
   "pygments_lexer": "ipython3",
   "version": "3.5.2"
  }
 },
 "nbformat": 4,
 "nbformat_minor": 1
}
