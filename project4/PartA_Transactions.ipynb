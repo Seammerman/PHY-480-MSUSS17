{
 "cells": [
  {
   "cell_type": "code",
   "execution_count": 8,
   "metadata": {
    "collapsed": false
   },
   "outputs": [],
   "source": [
    "import numpy as np\n",
    "import matplotlib.pyplot as plt\n",
    "import matplotlib.mlab as mlab\n",
    "import scipy.optimize as spy\n",
    "%matplotlib inline"
   ]
  },
  {
   "cell_type": "markdown",
   "metadata": {},
   "source": [
    "## Part a"
   ]
  },
  {
   "cell_type": "code",
   "execution_count": 9,
   "metadata": {
    "collapsed": true
   },
   "outputs": [],
   "source": [
    "num_agents = 500; # number of members partaking in transactions\n",
    "m0 = 1000; # average money per agent, will also be the starting money\n",
    "beta = 1/m0 # equation variable\n",
    "money_tot = m0 * num_agents # total money, will be conserved"
   ]
  },
  {
   "cell_type": "code",
   "execution_count": 10,
   "metadata": {
    "collapsed": true
   },
   "outputs": [],
   "source": [
    "# transaction quantification value epsilon\n",
    "def epsilon():\n",
    "    return np.round(np.random.uniform(0,1),2)\n",
    "\n",
    "# used to asign transactions between two random agents\n",
    "def rand_agent():\n",
    "    return np.int(np.round(np.random.uniform(0,num_agents - 1),0))"
   ]
  },
  {
   "cell_type": "code",
   "execution_count": 11,
   "metadata": {
    "collapsed": false
   },
   "outputs": [],
   "source": [
    "# vector container for all agents with starting money, m0\n",
    "def agent():\n",
    "    agents = np.zeros(num_agents);\n",
    "    agents += m0;\n",
    "    return agents"
   ]
  },
  {
   "cell_type": "code",
   "execution_count": 12,
   "metadata": {
    "collapsed": false
   },
   "outputs": [],
   "source": [
    "def transactions(agents,num):\n",
    "    i = 0\n",
    "    while i < num:\n",
    "        #exchange quantifier and agent identification\n",
    "        ep = epsilon()\n",
    "        one = rand_agent()\n",
    "        two = rand_agent()\n",
    "        if one == two:\n",
    "            two = rand_agent()\n",
    "        \n",
    "        #perform transaction\n",
    "        Mone = agents[one]\n",
    "        Mtwo = agents[two]\n",
    "        Msum = Mone + Mtwo\n",
    "        Moneprime = np.round(ep * Msum, 2)\n",
    "        #Mtwoprime = (1 - ep) * Msum \n",
    "        Mtwoprime = Msum - Moneprime\n",
    "        \n",
    "        #update agent wealth\n",
    "        agents[one] = Moneprime\n",
    "        agents[two] = Mtwoprime\n",
    "        \n",
    "        i += 1"
   ]
  },
  {
   "cell_type": "code",
   "execution_count": 21,
   "metadata": {
    "collapsed": false
   },
   "outputs": [],
   "source": [
    "def history(vector, num):\n",
    "    wealth = vector\n",
    "    plt.figure('histogram')\n",
    "    n, bins, patches = plt.hist(vector, 100, alpha=0.5)\n",
    "    n = np.append(n,0)\n",
    "    plt.title('Wealth Distribution after: ' + str(num) + ' transactions')\n",
    "    plt.xlabel('Wealth [Dollars]')\n",
    "    plt.ylabel('Occurance')\n",
    "    hold = True\n",
    "    y = np.exp(-beta*bins) * np.max(n)\n",
    "    plt.plot(bins,y, 'r')\n",
    "    plt.show()\n",
    "    return n, bins"
   ]
  },
  {
   "cell_type": "code",
   "execution_count": 22,
   "metadata": {
    "collapsed": false
   },
   "outputs": [],
   "source": [
    "def repitition(num):\n",
    "    rep = 0\n",
    "    loss = 0\n",
    "    check = 0\n",
    "    vector = agent()\n",
    "    # to check for equilibrium we calculate the new mean after successive simulations and wait for delW_avg = 0.05 %\n",
    "    while check < 1:\n",
    "        # to ensure the conservation of wealth we introduce an if statement for money loss\n",
    "        if np.abs(loss) < 1:\n",
    "            std_old = np.std(vector)\n",
    "            transactions(vector,num)\n",
    "            money_after = sum(vector)\n",
    "            loss = money_tot - money_after\n",
    "            rep += 1\n",
    "            agents = vector\n",
    "            std_new = np.std(vector)\n",
    "            if np.abs((std_new - std_old)/std_old) < 0.005:\n",
    "                check = 1\n",
    "                print('Equilibrium: established')\n",
    "                print('std of wealth: ', std_new)\n",
    "                print('rep count: ', rep)\n",
    "            else:\n",
    "                pass\n",
    "        else:\n",
    "            check = 1\n",
    "            print('money is not being conserved')\n",
    "            print('net difference: ', loss)\n",
    "            print('failed with rep count: ', rep)\n",
    "\n",
    "    return agents"
   ]
  },
  {
   "cell_type": "markdown",
   "metadata": {},
   "source": [
    "Num represents the number of transactions that will occur in each simulation\n",
    "\n",
    "the repitition function performs a num of transactions between the same num_agents until a change in the systems net money occurs. \n",
    "\n",
    "A histogram of the last stable system is plotted with an overlay of the gibs distribution in red"
   ]
  },
  {
   "cell_type": "code",
   "execution_count": 23,
   "metadata": {
    "collapsed": false
   },
   "outputs": [
    {
     "name": "stderr",
     "output_type": "stream",
     "text": [
      "C:\\Users\\samme\\Anaconda3\\lib\\site-packages\\ipykernel\\__main__.py:17: RuntimeWarning: divide by zero encountered in double_scalars\n"
     ]
    },
    {
     "name": "stdout",
     "output_type": "stream",
     "text": [
      "money is not being conserved\n",
      "net difference:  12.3199999999\n",
      "failed with rep count:  4\n"
     ]
    },
    {
     "data": {
      "image/png": "[encoded data removed]",
      "text/plain": [
       "<matplotlib.figure.Figure at 0x14745d33b38>"
      ]
     },
     "metadata": {},
     "output_type": "display_data"
    }
   ],
   "source": [
    "num = 10**5\n",
    "agents = repitition(num)\n",
    "n, bins = history(agents,num)"
   ]
  },
  {
   "cell_type": "markdown",
   "metadata": {
    "collapsed": false
   },
   "source": [
    "## Part b"
   ]
  },
  {
   "cell_type": "markdown",
   "metadata": {
    "collapsed": true
   },
   "source": [
    "n = A * exp(-beta * bins)\n",
    "\n",
    "ln n = ln A - beta * bins\n",
    "\n",
    "A = 10 * beta * |bins - max(bins)|\n",
    "\n",
    "ln n/A = -beta * bins = ln n/max(n)"
   ]
  },
  {
   "cell_type": "code",
   "execution_count": 29,
   "metadata": {
    "collapsed": true
   },
   "outputs": [],
   "source": [
    "n_temp = []\n",
    "bins_temp = []\n",
    "for i in np.arange(len(n)):\n",
    "    if n[i] > 0:\n",
    "        n_temp.append(n[i])\n",
    "        bins_temp.append(bins[i])\n",
    "    else:\n",
    "        pass\n",
    "# makes bins_t back into a np array\n",
    "bins_t = np.zeros(len(n_temp))\n",
    "for i in np.arange(len(n_temp)):\n",
    "    bins_t[i] = bins_temp[i]\n"
   ]
  },
  {
   "cell_type": "code",
   "execution_count": 30,
   "metadata": {
    "collapsed": false
   },
   "outputs": [
    {
     "name": "stderr",
     "output_type": "stream",
     "text": [
      "C:\\Users\\samme\\Anaconda3\\lib\\site-packages\\scipy\\optimize\\minpack.py:715: OptimizeWarning: Covariance of the parameters could not be estimated\n",
      "  category=OptimizeWarning)\n"
     ]
    }
   ],
   "source": [
    "[[a,b],c] = spy.curve_fit(lambda m,a,b: -b*m, bins_temp, n_temp)"
   ]
  },
  {
   "cell_type": "code",
   "execution_count": 44,
   "metadata": {
    "collapsed": false
   },
   "outputs": [
    {
     "data": {
      "text/plain": [
       "<matplotlib.text.Text at 0x1474578a860>"
      ]
     },
     "execution_count": 44,
     "metadata": {},
     "output_type": "execute_result"
    },
    {
     "data": {
      "image/png": "[encoded data removed]",
      "text/plain": [
       "<matplotlib.figure.Figure at 0x14747069438>"
      ]
     },
     "metadata": {},
     "output_type": "display_data"
    }
   ],
   "source": [
    "plt.figure('log')\n",
    "plt.scatter(bins_t,np.log(n_temp/np.max(n_temp)))\n",
    "hold = True\n",
    "plt.plot(bins_t, b* bins_t,color='r',label = 'y = -(.00095)wealth')\n",
    "plt.ylabel('log of distribution [a.u]')\n",
    "plt.legend()\n",
    "plt.xlabel('wealth [$]')"
   ]
  },
  {
   "cell_type": "code",
   "execution_count": 38,
   "metadata": {
    "collapsed": false
   },
   "outputs": [
    {
     "data": {
      "text/plain": [
       "(1.0, -0.00095159167598273485, array([[ inf,  inf],\n",
       "        [ inf,  inf]]))"
      ]
     },
     "execution_count": 38,
     "metadata": {},
     "output_type": "execute_result"
    }
   ],
   "source": [
    "a,b,c"
   ]
  },
  {
   "cell_type": "code",
   "execution_count": 39,
   "metadata": {
    "collapsed": false
   },
   "outputs": [
    {
     "data": {
      "text/plain": [
       "-1050.8708989780439"
      ]
     },
     "execution_count": 39,
     "metadata": {},
     "output_type": "execute_result"
    }
   ],
   "source": [
    "1/b"
   ]
  },
  {
   "cell_type": "code",
   "execution_count": null,
   "metadata": {
    "collapsed": true
   },
   "outputs": [],
   "source": []
  }
 ],
 "metadata": {
  "anaconda-cloud": {},
  "kernelspec": {
   "display_name": "Python [default]",
   "language": "python",
   "name": "python3"
  },
  "language_info": {
   "codemirror_mode": {
    "name": "ipython",
    "version": 3
   },
   "file_extension": ".py",
   "mimetype": "text/x-python",
   "name": "python",
   "nbconvert_exporter": "python",
   "pygments_lexer": "ipython3",
   "version": "3.5.2"
  }
 },
 "nbformat": 4,
 "nbformat_minor": 1
}
